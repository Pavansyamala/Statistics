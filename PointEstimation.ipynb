{
 "cells": [
  {
   "cell_type": "code",
   "execution_count": 1,
   "metadata": {},
   "outputs": [],
   "source": [
    "import pandas as pd\n",
    "import numpy as np"
   ]
  },
  {
   "cell_type": "code",
   "execution_count": 14,
   "metadata": {},
   "outputs": [],
   "source": [
    "from scipy.stats import norm , uniform , bernoulli , gamma  , poisson"
   ]
  },
  {
   "cell_type": "code",
   "execution_count": 3,
   "metadata": {},
   "outputs": [],
   "source": [
    "sample_size = 100 \n",
    "theta = 10"
   ]
  },
  {
   "cell_type": "code",
   "execution_count": 12,
   "metadata": {},
   "outputs": [],
   "source": [
    "sample = uniform.rvs(loc = 0 , scale = theta , size = sample_size )"
   ]
  },
  {
   "cell_type": "code",
   "execution_count": 13,
   "metadata": {},
   "outputs": [
    {
     "name": "stdout",
     "output_type": "stream",
     "text": [
      "Actual value of theta  10\n",
      "Point estimation  10.196793604716692\n"
     ]
    }
   ],
   "source": [
    "print('Actual value of theta ' , theta)\n",
    "print('Point estimation ' , 2*sample.mean())"
   ]
  },
  {
   "cell_type": "code",
   "execution_count": 16,
   "metadata": {},
   "outputs": [],
   "source": [
    "lambda_ = 2"
   ]
  },
  {
   "cell_type": "code",
   "execution_count": 23,
   "metadata": {},
   "outputs": [],
   "source": [
    "sample = poisson.rvs(lambda_ , size = sample_size)"
   ]
  },
  {
   "cell_type": "code",
   "execution_count": 24,
   "metadata": {},
   "outputs": [
    {
     "name": "stdout",
     "output_type": "stream",
     "text": [
      "Actual value of lambda  2\n",
      "Point estimation  1.99\n"
     ]
    }
   ],
   "source": [
    "print('Actual value of lambda ' , lambda_)\n",
    "print('Point estimation ' , sample.mean())"
   ]
  },
  {
   "cell_type": "code",
   "execution_count": 39,
   "metadata": {},
   "outputs": [],
   "source": [
    "mean = 7 \n",
    "std = 4 \n",
    "sample = norm.rvs(mean , std , size = sample_size)"
   ]
  },
  {
   "cell_type": "code",
   "execution_count": 40,
   "metadata": {},
   "outputs": [
    {
     "name": "stdout",
     "output_type": "stream",
     "text": [
      "Actual value of mean  7\n",
      "Point estimation  7.362676390105898\n"
     ]
    }
   ],
   "source": [
    "print('Actual value of mean ' , mean)\n",
    "print('Point estimation ' , sample.mean())"
   ]
  },
  {
   "cell_type": "code",
   "execution_count": 41,
   "metadata": {},
   "outputs": [
    {
     "name": "stdout",
     "output_type": "stream",
     "text": [
      "Actual value of variance  16\n",
      "Point estimation  15.152936696902588\n"
     ]
    }
   ],
   "source": [
    "print('Actual value of variance ' , std*std)\n",
    "print('Point estimation ' , ((sample_size-1)/sample_size)*sample.var(ddof = 1))"
   ]
  },
  {
   "cell_type": "code",
   "execution_count": 59,
   "metadata": {},
   "outputs": [],
   "source": [
    "alpha = 3 \n",
    "beta = 7 \n",
    "sample = gamma.rvs(a = alpha , scale = beta , size = sample_size)"
   ]
  },
  {
   "cell_type": "code",
   "execution_count": 60,
   "metadata": {},
   "outputs": [],
   "source": [
    "sample_mean = sample.mean()\n",
    "sample_var = sample.var()"
   ]
  },
  {
   "cell_type": "code",
   "execution_count": 61,
   "metadata": {},
   "outputs": [],
   "source": [
    "est_beta = ((sample_size-1)/sample_size)*(sample_var/sample_mean)\n",
    "est_alpha = sample_mean/est_beta"
   ]
  },
  {
   "cell_type": "code",
   "execution_count": 62,
   "metadata": {},
   "outputs": [
    {
     "name": "stdout",
     "output_type": "stream",
     "text": [
      "Actual Value of alpha :  3\n",
      "Estimated Value of alpha :   3.4037502941844178\n",
      "Actual value of beta :  7\n",
      "Estimated Value of beta :  7.010101938068967\n"
     ]
    }
   ],
   "source": [
    "print('Actual Value of alpha : ' , alpha)\n",
    "print('Estimated Value of alpha :  ' , est_alpha)\n",
    "print('Actual value of beta : ' , beta)\n",
    "print('Estimated Value of beta : ',est_beta)"
   ]
  },
  {
   "cell_type": "code",
   "execution_count": null,
   "metadata": {},
   "outputs": [],
   "source": []
  },
  {
   "cell_type": "code",
   "execution_count": null,
   "metadata": {},
   "outputs": [],
   "source": []
  },
  {
   "cell_type": "code",
   "execution_count": null,
   "metadata": {},
   "outputs": [],
   "source": []
  },
  {
   "cell_type": "code",
   "execution_count": null,
   "metadata": {},
   "outputs": [],
   "source": []
  },
  {
   "cell_type": "code",
   "execution_count": null,
   "metadata": {},
   "outputs": [],
   "source": []
  },
  {
   "cell_type": "code",
   "execution_count": null,
   "metadata": {},
   "outputs": [],
   "source": []
  }
 ],
 "metadata": {
  "kernelspec": {
   "display_name": "Python 3",
   "language": "python",
   "name": "python3"
  },
  "language_info": {
   "codemirror_mode": {
    "name": "ipython",
    "version": 3
   },
   "file_extension": ".py",
   "mimetype": "text/x-python",
   "name": "python",
   "nbconvert_exporter": "python",
   "pygments_lexer": "ipython3",
   "version": "3.8.19"
  }
 },
 "nbformat": 4,
 "nbformat_minor": 2
}
