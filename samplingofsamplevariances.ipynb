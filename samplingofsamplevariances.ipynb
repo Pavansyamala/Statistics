{
 "cells": [
  {
   "cell_type": "code",
   "execution_count": 1,
   "metadata": {},
   "outputs": [],
   "source": [
    "import pandas as pd\n",
    "import numpy as np"
   ]
  },
  {
   "cell_type": "code",
   "execution_count": 2,
   "metadata": {},
   "outputs": [],
   "source": [
    "data = pd.read_csv('student-por.csv')"
   ]
  },
  {
   "cell_type": "code",
   "execution_count": 4,
   "metadata": {},
   "outputs": [],
   "source": [
    "sample_sizes = [5 , 10 , 15 , 20 , 25 , 30 , 35 , 40 , 45 , 50 , 60 , 70 , 80]"
   ]
  },
  {
   "cell_type": "code",
   "execution_count": 5,
   "metadata": {},
   "outputs": [],
   "source": [
    "noofsamples = 1000"
   ]
  },
  {
   "cell_type": "code",
   "execution_count": 15,
   "metadata": {},
   "outputs": [],
   "source": [
    "variances = []\n",
    "population_variance = []\n",
    "for size in sample_sizes:\n",
    "    sample_means = []\n",
    "    for i in range(noofsamples) :\n",
    "        sample = data['age'].sample(size) \n",
    "        sample_means.append(np.mean(sample)) \n",
    "    variances.append(np.var(sample_means))\n",
    "    population_variance.append(np.var(data['age'])/size)"
   ]
  },
  {
   "cell_type": "code",
   "execution_count": 17,
   "metadata": {},
   "outputs": [
    {
     "name": "stdout",
     "output_type": "stream",
     "text": [
      "0.007821053852293869\n",
      "0.01622170692614683\n",
      "-0.0070097553825686915\n",
      "-0.0017487365369266011\n",
      "0.000696705170458771\n",
      "-0.004505721024617708\n",
      "-0.001852471490488658\n",
      "-0.001525223893463247\n",
      "-0.001593089818880955\n",
      "-0.004794819014770604\n",
      "-0.0025868335678644223\n",
      "-0.00241721023504032\n",
      "-0.0022994747592316386\n"
     ]
    }
   ],
   "source": [
    "for mean_var , pop_var in zip(variances , population_variance):\n",
    "    print(mean_var-pop_var)"
   ]
  },
  {
   "cell_type": "code",
   "execution_count": 19,
   "metadata": {},
   "outputs": [],
   "source": [
    "## Expected Value of Sample Standard Deviation == Population Variance if ddof = 1 else this is not same"
   ]
  },
  {
   "cell_type": "code",
   "execution_count": 20,
   "metadata": {},
   "outputs": [],
   "source": [
    "variances = []\n",
    "population_variance = []\n",
    "for size in sample_sizes:\n",
    "    sample_variances = []\n",
    "    for i in range(noofsamples) :\n",
    "        sample = data['age'].sample(size) \n",
    "        sample_variances.append(np.var(sample , ddof=1)) \n",
    "    variances.append(np.mean(sample_variances))"
   ]
  },
  {
   "cell_type": "code",
   "execution_count": 22,
   "metadata": {},
   "outputs": [
    {
     "name": "stdout",
     "output_type": "stream",
     "text": [
      "1.4745 1.483859308718066\n",
      "1.485011111111111 1.483859308718066\n",
      "1.4778190476190476 1.483859308718066\n",
      "1.482728947368421 1.483859308718066\n",
      "1.4793166666666666 1.483859308718066\n",
      "1.5038068965517242 1.483859308718066\n",
      "1.525526050420168 1.483859308718066\n",
      "1.4642673076923076 1.483859308718066\n",
      "1.490463636363636 1.483859308718066\n",
      "1.4838179591836733 1.483859308718066\n",
      "1.4700638418079097 1.483859308718066\n",
      "1.4789832298136643 1.483859308718066\n",
      "1.4867477848101267 1.483859308718066\n"
     ]
    }
   ],
   "source": [
    "for i in variances:\n",
    "    print(i , data['age'].var())"
   ]
  },
  {
   "cell_type": "code",
   "execution_count": 23,
   "metadata": {},
   "outputs": [],
   "source": [
    "## Now Check for ddof = 0"
   ]
  },
  {
   "cell_type": "code",
   "execution_count": 24,
   "metadata": {},
   "outputs": [],
   "source": [
    "variances = []\n",
    "population_variance = []\n",
    "for size in sample_sizes:\n",
    "    sample_variances = []\n",
    "    for i in range(noofsamples) :\n",
    "        sample = data['age'].sample(size) \n",
    "        sample_variances.append(np.var(sample , ddof=0)) \n",
    "    variances.append(np.mean(sample_variances))"
   ]
  },
  {
   "cell_type": "code",
   "execution_count": 29,
   "metadata": {},
   "outputs": [
    {
     "name": "stdout",
     "output_type": "stream",
     "text": [
      "-0.3331393087180661\n",
      "-0.12616930871806598\n",
      "-0.10953930871806583\n",
      "-0.0596243087180659\n",
      "-0.06255050871806622\n",
      "-0.04457264205139966\n",
      "-0.05869849239153546\n",
      "-0.04466930871806607\n",
      "-0.037181777853868336\n",
      "-0.02409850871806607\n",
      "-0.012746808718065994\n",
      "-0.0239731862690864\n",
      "-0.013342277468066044\n"
     ]
    }
   ],
   "source": [
    "for i , j in zip(variances , sample_sizes):\n",
    "    print(i-data['age'].var())"
   ]
  },
  {
   "cell_type": "markdown",
   "metadata": {},
   "source": [
    "from above we know that there is a difference between Expected Value of Sample Variances and Population Variances as ddof = 0 and equals to (n-1)/n"
   ]
  },
  {
   "cell_type": "code",
   "execution_count": 30,
   "metadata": {},
   "outputs": [
    {
     "name": "stdout",
     "output_type": "stream",
     "text": [
      "-0.03636744697445282\n",
      "0.02221662215374054\n",
      "-0.010615354803528154\n",
      "0.014568656717837358\n",
      "-0.003196136369343572\n",
      "0.00488933490586918\n",
      "-0.016302512142447823\n",
      "-0.007572826000114441\n",
      "-0.004207126549022444\n",
      "0.005578677456295367\n",
      "0.011984179760568425\n",
      "-0.00277519614454258\n",
      "0.0052059638909096595\n"
     ]
    }
   ],
   "source": [
    "for i , j in zip(variances , sample_sizes):\n",
    "    print(i - ((j-1)/j)*data['age'].var())"
   ]
  },
  {
   "cell_type": "markdown",
   "metadata": {},
   "source": [
    "From above We came to conclusion that the \n",
    "\n",
    "\n",
    "        Expected value of Sample Variance = Population Variance if ddof = 1\n",
    "        Expected value of Sample Variance = ((sample_size - 1)/sample_size)*population_variance if ddof = 0"
   ]
  },
  {
   "cell_type": "code",
   "execution_count": null,
   "metadata": {},
   "outputs": [],
   "source": []
  },
  {
   "cell_type": "code",
   "execution_count": null,
   "metadata": {},
   "outputs": [],
   "source": []
  },
  {
   "cell_type": "code",
   "execution_count": null,
   "metadata": {},
   "outputs": [],
   "source": []
  },
  {
   "cell_type": "code",
   "execution_count": null,
   "metadata": {},
   "outputs": [],
   "source": []
  },
  {
   "cell_type": "code",
   "execution_count": null,
   "metadata": {},
   "outputs": [],
   "source": []
  }
 ],
 "metadata": {
  "kernelspec": {
   "display_name": "Python 3",
   "language": "python",
   "name": "python3"
  },
  "language_info": {
   "codemirror_mode": {
    "name": "ipython",
    "version": 3
   },
   "file_extension": ".py",
   "mimetype": "text/x-python",
   "name": "python",
   "nbconvert_exporter": "python",
   "pygments_lexer": "ipython3",
   "version": "3.8.19"
  }
 },
 "nbformat": 4,
 "nbformat_minor": 2
}
